{
 "cells": [
  {
   "cell_type": "code",
   "execution_count": 1,
   "id": "2ff46089-3ef8-413b-925d-c8c12b8b48fc",
   "metadata": {},
   "outputs": [],
   "source": [
    "import pandas as pd\n",
    "import numpy as np\n",
    "import seaborn as sns\n",
    "import xgboost as xgb\n",
    "\n",
    "from sklearn.model_selection import cross_val_score\n",
    "from sklearn.model_selection import train_test_split\n",
    "from sklearn import metrics\n",
    "from xgboost import XGBRFRegressor"
   ]
  },
  {
   "cell_type": "markdown",
   "id": "f1ff3a1f-fff9-4121-8715-133147fc8eaf",
   "metadata": {},
   "source": [
    "#### Os dados abaixo são retirados de um respositório médico, sendo estes dados sobre a coluna lombar de pacientes que não possuem nenhuma problema na coluna, ou que possuem Hérnia de disco ou Espondilolistese (escorregamento vertebral), o modelo abaixo tenta prever os pacientes que não possuem problema vertebral ou que possuem algum desses 2 problemas"
   ]
  },
  {
   "cell_type": "code",
   "execution_count": 2,
   "id": "ffe0ed71-38e2-4678-ace4-4985ec828b60",
   "metadata": {},
   "outputs": [],
   "source": [
    "#importando os dados do tipo arff \n",
    "\n",
    "import warnings, requests, zipfile, io\n",
    "warnings.simplefilter('ignore')\n",
    "import pandas as pd\n",
    "from scipy.io import arff\n",
    "\n",
    "data = arff.loadarff('column_2C_weka.arff')\n",
    "dados = pd.DataFrame(data[0])"
   ]
  },
  {
   "cell_type": "code",
   "execution_count": 3,
   "id": "38eba221-4ba1-402b-bc49-ee2b25546bd4",
   "metadata": {},
   "outputs": [
    {
     "data": {
      "text/plain": [
       "(class\n",
       " b'Abnormal'    210\n",
       " b'Normal'      100\n",
       " Name: count, dtype: int64,\n",
       " (310, 7))"
      ]
     },
     "execution_count": 3,
     "metadata": {},
     "output_type": "execute_result"
    }
   ],
   "source": [
    "dados['class'].value_counts(), dados.shape"
   ]
  },
  {
   "cell_type": "code",
   "execution_count": 4,
   "id": "a4cc4fe9-9b9e-402a-9db9-5b2929470159",
   "metadata": {},
   "outputs": [],
   "source": [
    "# trocando os dados da coluna class para 0 que irá representar um paciente Normal e 1 para paciente com algum tipo de problema, \n",
    "# sendo estes problemas de Espondilolistese ou Hérnia de disco\n",
    "mapeamento_class = {b'Normal':0, b'Abnormal':1}\n",
    "dados['class'] = dados['class'].replace(mapeamento_class)"
   ]
  },
  {
   "cell_type": "code",
   "execution_count": 5,
   "id": "ceefe7c9-1257-465e-b4e1-5f2cca4212b4",
   "metadata": {},
   "outputs": [
    {
     "data": {
      "text/html": [
       "<div>\n",
       "<style scoped>\n",
       "    .dataframe tbody tr th:only-of-type {\n",
       "        vertical-align: middle;\n",
       "    }\n",
       "\n",
       "    .dataframe tbody tr th {\n",
       "        vertical-align: top;\n",
       "    }\n",
       "\n",
       "    .dataframe thead th {\n",
       "        text-align: right;\n",
       "    }\n",
       "</style>\n",
       "<table border=\"1\" class=\"dataframe\">\n",
       "  <thead>\n",
       "    <tr style=\"text-align: right;\">\n",
       "      <th></th>\n",
       "      <th>class</th>\n",
       "      <th>pelvic_incidence</th>\n",
       "      <th>pelvic_tilt</th>\n",
       "      <th>lumbar_lordosis_angle</th>\n",
       "      <th>sacral_slope</th>\n",
       "      <th>pelvic_radius</th>\n",
       "      <th>degree_spondylolisthesis</th>\n",
       "    </tr>\n",
       "  </thead>\n",
       "  <tbody>\n",
       "    <tr>\n",
       "      <th>0</th>\n",
       "      <td>1</td>\n",
       "      <td>63.027817</td>\n",
       "      <td>22.552586</td>\n",
       "      <td>39.609117</td>\n",
       "      <td>40.475232</td>\n",
       "      <td>98.672917</td>\n",
       "      <td>-0.254400</td>\n",
       "    </tr>\n",
       "    <tr>\n",
       "      <th>1</th>\n",
       "      <td>1</td>\n",
       "      <td>39.056951</td>\n",
       "      <td>10.060991</td>\n",
       "      <td>25.015378</td>\n",
       "      <td>28.995960</td>\n",
       "      <td>114.405425</td>\n",
       "      <td>4.564259</td>\n",
       "    </tr>\n",
       "    <tr>\n",
       "      <th>2</th>\n",
       "      <td>1</td>\n",
       "      <td>68.832021</td>\n",
       "      <td>22.218482</td>\n",
       "      <td>50.092194</td>\n",
       "      <td>46.613539</td>\n",
       "      <td>105.985135</td>\n",
       "      <td>-3.530317</td>\n",
       "    </tr>\n",
       "    <tr>\n",
       "      <th>3</th>\n",
       "      <td>1</td>\n",
       "      <td>69.297008</td>\n",
       "      <td>24.652878</td>\n",
       "      <td>44.311238</td>\n",
       "      <td>44.644130</td>\n",
       "      <td>101.868495</td>\n",
       "      <td>11.211523</td>\n",
       "    </tr>\n",
       "    <tr>\n",
       "      <th>4</th>\n",
       "      <td>1</td>\n",
       "      <td>49.712859</td>\n",
       "      <td>9.652075</td>\n",
       "      <td>28.317406</td>\n",
       "      <td>40.060784</td>\n",
       "      <td>108.168725</td>\n",
       "      <td>7.918501</td>\n",
       "    </tr>\n",
       "  </tbody>\n",
       "</table>\n",
       "</div>"
      ],
      "text/plain": [
       "   class  pelvic_incidence  pelvic_tilt  lumbar_lordosis_angle  sacral_slope  \\\n",
       "0      1         63.027817    22.552586              39.609117     40.475232   \n",
       "1      1         39.056951    10.060991              25.015378     28.995960   \n",
       "2      1         68.832021    22.218482              50.092194     46.613539   \n",
       "3      1         69.297008    24.652878              44.311238     44.644130   \n",
       "4      1         49.712859     9.652075              28.317406     40.060784   \n",
       "\n",
       "   pelvic_radius  degree_spondylolisthesis  \n",
       "0      98.672917                 -0.254400  \n",
       "1     114.405425                  4.564259  \n",
       "2     105.985135                 -3.530317  \n",
       "3     101.868495                 11.211523  \n",
       "4     108.168725                  7.918501  "
      ]
     },
     "execution_count": 5,
     "metadata": {},
     "output_type": "execute_result"
    }
   ],
   "source": [
    "#colocando a coluna de \"target\" (class) como primeira no conjunto de dados para facilitar o processamento pelo algoritmo\n",
    "colunas = dados.columns.to_list()\n",
    "colunas = colunas[-1:] + colunas[:-1]\n",
    "dados = dados[colunas]\n",
    " \n",
    "dados.head()"
   ]
  },
  {
   "cell_type": "code",
   "execution_count": 6,
   "id": "48e825bd-e287-42f6-abd4-aea2c1602b68",
   "metadata": {},
   "outputs": [],
   "source": [
    "#os códigos abaixo servem para dividir a massa de dados em conjuntos diferentes para treinamento e teste\n",
    "massa_dados_base = dados.iloc[:, 1:]\n",
    "coluna_alvos_originais = dados.iloc[:, :1]"
   ]
  },
  {
   "cell_type": "code",
   "execution_count": 7,
   "id": "45d952c2-6093-435e-acd2-3f75d2268b3a",
   "metadata": {},
   "outputs": [],
   "source": [
    "#definindo as variaveis para receber os dados repartidos pela função de divisão dos dados\n",
    "dados_treinamento_base, dados_test_base, dados_treinamento_alvos, dados_test_alvos = train_test_split(massa_dados_base, coluna_alvos_originais, random_state=42, test_size=0.2)"
   ]
  },
  {
   "cell_type": "code",
   "execution_count": 8,
   "id": "c786ec02-324f-44e6-b735-83f50e32f16c",
   "metadata": {},
   "outputs": [
    {
     "data": {
      "text/plain": [
       "((248, 6), (248, 1))"
      ]
     },
     "execution_count": 8,
     "metadata": {},
     "output_type": "execute_result"
    }
   ],
   "source": [
    "#verificando o tamanho dos dados de treinamento \n",
    "dados_treinamento_base.shape , dados_treinamento_alvos.shape"
   ]
  },
  {
   "cell_type": "code",
   "execution_count": 9,
   "id": "2cf2eed9-8120-4323-a39b-e184cd0089ea",
   "metadata": {},
   "outputs": [
    {
     "data": {
      "text/plain": [
       "((62, 6), (62, 1))"
      ]
     },
     "execution_count": 9,
     "metadata": {},
     "output_type": "execute_result"
    }
   ],
   "source": [
    "#verificando o tamanho dos dados para test e validação dos resultados\n",
    "dados_test_base.shape , dados_test_alvos.shape"
   ]
  },
  {
   "cell_type": "code",
   "execution_count": 14,
   "id": "d0ff010c-fb4b-4bb1-ab0a-0e71348b23a5",
   "metadata": {},
   "outputs": [],
   "source": [
    "#criando uma instância da classe do modelo XGBoost para utiliza-la na medição da acurácia logo abaixo utilizando o metodo de classificação\n",
    "classificador_xgb = xgb.XGBClassifier()"
   ]
  },
  {
   "cell_type": "code",
   "execution_count": 23,
   "id": "dcb7151f-a2c0-483a-9d64-4edac0f42032",
   "metadata": {},
   "outputs": [
    {
     "data": {
      "text/plain": [
       "array([0.85483871, 0.87096774, 0.80645161, 0.83870968])"
      ]
     },
     "execution_count": 23,
     "metadata": {},
     "output_type": "execute_result"
    }
   ],
   "source": [
    "#importando a biblioteca cross validation(CV) para treinar qual a acurácia do modelo escolhido utilizando os\n",
    "# dados da base de treinamento para realizar testes com diferentes ordenações desses dados em cada teste de treinamento\n",
    "resultado_cv = cross_val_score(classificador_xgb,dados_treinamento_base, dados_treinamento_alvos, cv=4) \n",
    "resultado_cv\n",
    "\n",
    "# o processo acima serve somente para testar a acurácia média do modelo utilizando a base de dados trabalhada para treinamento\n",
    "# esse processo pode ser utilizado com diversos tipos de modelos(algoritmos) e verificar sua acurácia antes de testa-lo com \n",
    "# dados de testes utilizando funções de treinamento do modelo."
   ]
  },
  {
   "cell_type": "code",
   "execution_count": 40,
   "id": "68a3ad2c-b18e-4e00-aed1-5390565d61eb",
   "metadata": {},
   "outputs": [
    {
     "name": "stdout",
     "output_type": "stream",
     "text": [
      " Desempenho de : 84.27 %\n"
     ]
    }
   ],
   "source": [
    "#realizando a média de acurácia(cross validation) realizada acima referente os diferentes testes realizados\n",
    "media_cv = resultado_cv.mean()\n",
    "print(\" Desempenho de : {:.2f} %\".format(media_cv*100))"
   ]
  },
  {
   "cell_type": "code",
   "execution_count": 66,
   "id": "0feeba08-0eea-4fb6-a545-af6d832d0350",
   "metadata": {},
   "outputs": [
    {
     "name": "stdout",
     "output_type": "stream",
     "text": [
      " Desempenho de : 86.29 %\n"
     ]
    }
   ],
   "source": [
    "#alterando os hiper-parametros do algoritmos XGB para melhorar a precisão da acurácia a fim de \n",
    "# deixar o modelo pronto para um futuro treinamento com dados de test\n",
    "tunagem1_xgb = xgb.XGBClassifier(max_depth=5, booster='dart', reg_lambda=1.5) \n",
    "\n",
    "resultado_cv_tunagem1 = cross_val_score(tunagem1_xgb, dados_treinamento_base, dados_treinamento_alvos, cv = 4).mean()\n",
    "print(\" Desempenho de : {:.2f} %\".format(resultado_cv_tunagem1*100))"
   ]
  },
  {
   "cell_type": "code",
   "execution_count": 67,
   "id": "19e0c554-7a49-40f5-8385-cdb0772ea7a7",
   "metadata": {},
   "outputs": [
    {
     "name": "stdout",
     "output_type": "stream",
     "text": [
      "Desempenho de: 82.66 %\n"
     ]
    }
   ],
   "source": [
    "#testando uma nova implementação do XGB para testar novamente uma melhora na acurácia\n",
    "tunagem2_xgb = xgb.XGBClassifier(booster='gblinear')\n",
    "resultado_cv_tunagem2 = cross_val_score(tunagem2_xgb, dados_treinamento_base, dados_treinamento_alvos, cv = 4).mean()\n",
    "print('Desempenho de: {:.2f} %'.format(resultado_cv_tunagem2*100))\n",
    "\n",
    "#para testar novas métricas de desempenho(tunagem) tente realizar a mudança de diferentes parâmetros do XGBoost, o site abaixo mostra\n",
    "# alguns dos principais parâmetros que podem ser trabalhados: https://www.kaggle.com/code/prashant111/a-guide-on-xgboost-hyperparameters-tuning"
   ]
  },
  {
   "cell_type": "code",
   "execution_count": 68,
   "id": "5dee75a5-f793-4c2c-b589-6482aa6c2260",
   "metadata": {},
   "outputs": [],
   "source": [
    "#definindo o modelo campeão com a melhor acurácia\n",
    "modelo_campeao = tunagem1_xgb"
   ]
  },
  {
   "cell_type": "code",
   "execution_count": 69,
   "id": "2b186992-33ee-438c-b90a-7f9d604d77bc",
   "metadata": {},
   "outputs": [
    {
     "data": {
      "text/plain": [
       "XGBClassifier(base_score=None, booster='dart', callbacks=None,\n",
       "              colsample_bylevel=None, colsample_bynode=None,\n",
       "              colsample_bytree=None, early_stopping_rounds=None,\n",
       "              enable_categorical=False, eval_metric=None, feature_types=None,\n",
       "              gamma=None, gpu_id=None, grow_policy=None, importance_type=None,\n",
       "              interaction_constraints=None, learning_rate=None, max_bin=None,\n",
       "              max_cat_threshold=None, max_cat_to_onehot=None,\n",
       "              max_delta_step=None, max_depth=5, max_leaves=None,\n",
       "              min_child_weight=None, missing=nan, monotone_constraints=None,\n",
       "              n_estimators=100, n_jobs=None, num_parallel_tree=None,\n",
       "              predictor=None, random_state=None, ...)"
      ]
     },
     "execution_count": 69,
     "metadata": {},
     "output_type": "execute_result"
    }
   ],
   "source": [
    "#realizando o treinamento oficial do modelo com os dados de treinamento\n",
    "modelo_campeao.fit(dados_treinamento_base, dados_treinamento_alvos)"
   ]
  },
  {
   "cell_type": "code",
   "execution_count": 72,
   "id": "07e34793-a73d-4eef-a366-781c23322ef8",
   "metadata": {},
   "outputs": [
    {
     "data": {
      "text/plain": [
       "array([0, 0, 0, 1, 1, 1, 1, 1, 1, 1, 1, 1, 1, 1, 0, 1, 0, 1, 0, 1, 1, 1,\n",
       "       1, 1, 1, 1, 1, 0, 0, 0, 1, 1, 1, 0, 1, 1, 1, 0, 1, 1, 1, 1, 1, 0,\n",
       "       0, 1, 0, 1, 0, 1, 1, 1, 1, 1, 1, 1, 1, 1, 1, 1, 0, 1])"
      ]
     },
     "execution_count": 72,
     "metadata": {},
     "output_type": "execute_result"
    }
   ],
   "source": [
    "#realizando uma predição com os dados de validação após o treinamento do modelo campeão escolhido\n",
    "predicao = modelo_campeao.predict(dados_test_base)\n",
    "predicao"
   ]
  },
  {
   "cell_type": "code",
   "execution_count": 81,
   "id": "c76cb60b-d81a-42f7-9950-7744b02c04ef",
   "metadata": {},
   "outputs": [
    {
     "data": {
      "text/html": [
       "<div>\n",
       "<style scoped>\n",
       "    .dataframe tbody tr th:only-of-type {\n",
       "        vertical-align: middle;\n",
       "    }\n",
       "\n",
       "    .dataframe tbody tr th {\n",
       "        vertical-align: top;\n",
       "    }\n",
       "\n",
       "    .dataframe thead th {\n",
       "        text-align: right;\n",
       "    }\n",
       "</style>\n",
       "<table border=\"1\" class=\"dataframe\">\n",
       "  <thead>\n",
       "    <tr style=\"text-align: right;\">\n",
       "      <th></th>\n",
       "      <th>Resultado</th>\n",
       "    </tr>\n",
       "  </thead>\n",
       "  <tbody>\n",
       "    <tr>\n",
       "      <th>289</th>\n",
       "      <td>0</td>\n",
       "    </tr>\n",
       "    <tr>\n",
       "      <th>9</th>\n",
       "      <td>0</td>\n",
       "    </tr>\n",
       "    <tr>\n",
       "      <th>57</th>\n",
       "      <td>0</td>\n",
       "    </tr>\n",
       "    <tr>\n",
       "      <th>60</th>\n",
       "      <td>1</td>\n",
       "    </tr>\n",
       "    <tr>\n",
       "      <th>25</th>\n",
       "      <td>1</td>\n",
       "    </tr>\n",
       "  </tbody>\n",
       "</table>\n",
       "</div>"
      ],
      "text/plain": [
       "     Resultado\n",
       "289          0\n",
       "9            0\n",
       "57           0\n",
       "60           1\n",
       "25           1"
      ]
     },
     "execution_count": 81,
     "metadata": {},
     "output_type": "execute_result"
    }
   ],
   "source": [
    "#jogando o resultado para um data frame \n",
    "dados_resultado = pd.DataFrame(predicao, index= dados_test_alvos.index, columns=['Resultado'])\n",
    "dados_resultado.head()"
   ]
  },
  {
   "cell_type": "code",
   "execution_count": 89,
   "id": "bd82dea9-34d1-4125-90e7-efa42a38737e",
   "metadata": {},
   "outputs": [
    {
     "data": {
      "text/plain": [
       "48"
      ]
     },
     "execution_count": 89,
     "metadata": {},
     "output_type": "execute_result"
    }
   ],
   "source": [
    "#calculando os acertos da predição\n",
    "soma_acertos = (dados_test_alvos['class'] == dados_resultado['Resultado']).sum()\n",
    "soma_acertos"
   ]
  },
  {
   "cell_type": "code",
   "execution_count": 90,
   "id": "8efcc9dc-47a2-4027-803d-2eff95ccc366",
   "metadata": {},
   "outputs": [
    {
     "name": "stdout",
     "output_type": "stream",
     "text": [
      "Desempenho final do treinamento de Classificação: 77.42 %\n"
     ]
    }
   ],
   "source": [
    "#calculando a porcentagem de acertos de acordo com o base de dados resultado(acurácia)\n",
    "qtd_resultados_alvos = len(dados_test_alvos)\n",
    "porct_acuracia = 100 * (soma_acertos/qtd_resultados_alvos)\n",
    "porct_acuracia\n",
    "\n",
    "print('Desempenho final do treinamento de Classificação: {:.2f} %'.format(porct_acuracia))"
   ]
  },
  {
   "cell_type": "code",
   "execution_count": null,
   "id": "fb61195f-abf5-44e9-892d-9fc056e9e02f",
   "metadata": {},
   "outputs": [],
   "source": []
  },
  {
   "cell_type": "code",
   "execution_count": null,
   "id": "31f32329-a9b7-4f47-ae5d-eb6c98a5eeea",
   "metadata": {},
   "outputs": [],
   "source": []
  }
 ],
 "metadata": {
  "kernelspec": {
   "display_name": "Python 3 (ipykernel)",
   "language": "python",
   "name": "python3"
  },
  "language_info": {
   "codemirror_mode": {
    "name": "ipython",
    "version": 3
   },
   "file_extension": ".py",
   "mimetype": "text/x-python",
   "name": "python",
   "nbconvert_exporter": "python",
   "pygments_lexer": "ipython3",
   "version": "3.9.13"
  }
 },
 "nbformat": 4,
 "nbformat_minor": 5
}
